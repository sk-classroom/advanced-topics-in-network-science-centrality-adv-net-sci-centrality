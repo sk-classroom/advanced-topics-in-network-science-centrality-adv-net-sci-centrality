{
 "cells": [
  {
   "cell_type": "markdown",
   "id": "58ffdee1",
   "metadata": {},
   "source": [
    "```html\n",
    "<a target=\"_blank\" \n",
    "  href=\"https://colab.research.google.com/github/sk-classroom/adv-net-sci-centrality/blob/main/assignment/assignment.ipynb\">\n",
    "  <img src=\"https://colab.research.google.com/assets/colab-badge.svg\" alt=\"Open In Colab\"/>\n",
    "</a>\n",
    "```\n",
    "\n",
    "# Assignment\n",
    "\n",
    "In this assignment, we will learn the difference between different centrality measures using an international airport network. \n",
    "\n",
    "Complete the following tasks and upload your notebook to your GitHub repository.\n",
    "\n",
    "1. Fill in the blank functions, marked by, \"\\#TODO\", in the notebook\n",
    "2. Update this notebook by using `git add`, `git commit`, and then `git push`.\n",
    "3. The notebook will be automatically graded, and your score will be shown on GitHub. See [how to check the results on GitHub](https://docs.github.com/en/education/manage-coursework-with-github-classroom/learn-with-github-classroom/view-autograding-results)\n",
    "\n",
    "Dont's:\n",
    "- Do not import any libraries except for the ones that are already imported. The grading script will not work if you import additional libraries.\n",
    "- Do not change the name of the functions. The grading script will not work if you change the name of the functions.\n",
    "- DO not remove the cells with tag \"gradable\". If you happen to remove the cells with tag \"gradable\", recreate the cell and add the tag \"gradable\" to the cell.\n",
    "\n",
    "Do's:\n",
    "- Make the code clearn and easy to understand. Consider using linters & formatters such as `black`. [Youtube: Linters and fixers: never worry about code formatting again (Vim + Ale + Flake8 & Black for Python) by Yong-Yeol Ahn](https://www.youtube.com/watch?v=4FKPySR6HLk)\n",
    "- You can add additional cells as you like. If you want to include the additional cells in the grading, you need to add the tag \"gradable\" to the cell. Otherwise, your additional cells will be stripped out when grading. \n",
    "\n",
    "## Load the data"
   ]
  },
  {
   "cell_type": "code",
   "execution_count": 1,
   "id": "58c0675c",
   "metadata": {},
   "outputs": [
    {
     "name": "stdout",
     "output_type": "stream",
     "text": [
      "Goroka , Madang , ...\n"
     ]
    }
   ],
   "source": [
    "import pandas as pd\n",
    "import igraph\n",
    "import numpy as np\n",
    "\n",
    "node_table = pd.read_csv(\n",
    "    \"https://raw.githubusercontent.com/skojaku/adv-net-sci-course/main/data/airport_network_v2/node_table.csv\"\n",
    ")\n",
    "edge_table = pd.read_csv(\n",
    "    \"https://raw.githubusercontent.com/skojaku/adv-net-sci-course/main/data/airport_network_v2/edge_table.csv\"\n",
    ")\n",
    "src, trg = tuple(edge_table[[\"src\", \"trg\"]].values.T)\n",
    "edge_list = tuple(zip(src, trg))\n",
    "\n",
    "# node_id and name dictionary\n",
    "n_nodes = node_table.shape[0]\n",
    "id2name = np.array([\"\"] * n_nodes, dtype=\"<U64\")\n",
    "id2name[node_table[\"node_id\"]] = node_table[\"Name\"].values\n",
    "\n",
    "g = igraph.Graph(\n",
    "    edge_list,\n",
    "    vertex_attrs=dict(Name=id2name, node_id=node_table[\"node_id\"].values),\n",
    ")\n",
    "\n",
    "# You can retrieve the airport names by\n",
    "print(g.vs[0][\"Name\"], \",\", g.vs[1][\"Name\"], \", ...\")# All cells without the tag \"gradable\" will be stripped out when grading."
   ]
  },
  {
   "cell_type": "markdown",
   "id": "3bea1727",
   "metadata": {},
   "source": [
    "# Question 1\n",
    "\n",
    "Which airport is the most central in terms of the closeness centrality? List the top 5 most central airports."
   ]
  },
  {
   "cell_type": "code",
   "execution_count": 2,
   "id": "48cdfb66",
   "metadata": {
    "tags": [
     "gradable"
    ]
   },
   "outputs": [],
   "source": [
    "#TODO\n",
    "def top_k_closeness_centrality(g, top_k):\n",
    "    \"\"\"\n",
    "    TODO: Write a function that returns the top k most central airports in terms of the closeness centrality.\n",
    "\n",
    "    Parameters\n",
    "    ----------\n",
    "    g : igraph.Graph\n",
    "        The graph\n",
    "    top_k : int\n",
    "        The number of top most central airports to return\n",
    "\n",
    "    Returns\n",
    "    -------\n",
    "    top_5 : list\n",
    "        The name of the 5 most central airports in terms of the closeness centrality, in a descending order of closeness centrality.\n",
    "    \"\"\""
   ]
  },
  {
   "cell_type": "code",
   "execution_count": 4,
   "id": "bd4d0c70",
   "metadata": {},
   "outputs": [
    {
     "data": {
      "text/plain": [
       "['Frankfurt Main', 'Charles De Gaulle', 'Heathrow', 'Schiphol', 'Dubai Intl']"
      ]
     },
     "execution_count": 4,
     "metadata": {},
     "output_type": "execute_result"
    }
   ],
   "source": [
    "top_k_closeness_centrality(g, 5)"
   ]
  },
  {
   "cell_type": "markdown",
   "id": "9d62f360",
   "metadata": {},
   "source": [
    "# Question 2\n",
    "\n",
    "Compute the betweenness centrality of the airports and show the top k airports. "
   ]
  },
  {
   "cell_type": "code",
   "execution_count": 5,
   "id": "14f45921",
   "metadata": {
    "tags": [
     "gradable"
    ]
   },
   "outputs": [],
   "source": [
    "#TODO\n",
    "def top_k_betweenness_centrality(g, top_k):\n",
    "    \"\"\"\n",
    "    TODO: Write a function that returns the top k most central airports in terms of the closeness centrality.\n",
    "\n",
    "    Parameters\n",
    "    ----------\n",
    "    g : igraph.Graph\n",
    "        The graph\n",
    "    top_k : int\n",
    "        The number of top most central airports to return\n",
    "\n",
    "    Returns\n",
    "    -------\n",
    "    top_5 : list\n",
    "        The name of the 5 most central airports in terms of the closeness centrality, in a descending order of closeness centrality.\n",
    "    \"\"\"\n",
    "    pass"
   ]
  },
  {
   "cell_type": "code",
   "execution_count": 7,
   "id": "66a491d2",
   "metadata": {},
   "outputs": [
    {
     "data": {
      "text/plain": [
       "['Frankfurt Main',\n",
       " 'Charles De Gaulle',\n",
       " 'Ted Stevens Anchorage Intl',\n",
       " 'Dubai Intl',\n",
       " 'Guarulhos Gov Andre Franco Montouro']"
      ]
     },
     "execution_count": 7,
     "metadata": {},
     "output_type": "execute_result"
    }
   ],
   "source": [
    "top_k_betweenness_centrality(g,5)"
   ]
  },
  {
   "cell_type": "markdown",
   "id": "8ea8d112",
   "metadata": {},
   "source": [
    "You should see an interesting airport that is not central in terms of the closeness centrality but is central in terms of the betweenness centrality. If you are curious why, here is a nice reading to understand why: https://toreopsahl.com/2011/08/12/why-anchorage-is-not-that-important-binary-ties-and-sample-selection/\n",
    "\n",
    "# Question 3\n",
    "\n",
    "Compute the robustness prifile of the airport network for:\n",
    "1. Random attacks\n",
    "2. Three targeted attacks based on:\n",
    "   a. Degree centrality\n",
    "   b. Closeness centrality\n",
    "   c. Betweenness centrality\n",
    "\n",
    "For targeted attacks:\n",
    "- Remove the 10 most central nodes in each step\n",
    "- Use the current network structure in each step, not the original undamaged network\n",
    "\n",
    "Each function should return two arrays:\n",
    "  - The fraction of nodes removed (the x value of the robustness profile)\n",
    "  - The size of the largest connected component (the y value of the robustness profile)"
   ]
  },
  {
   "cell_type": "code",
   "execution_count": 8,
   "id": "3ae414ed",
   "metadata": {
    "tags": [
     "gradable"
    ]
   },
   "outputs": [],
   "source": [
    "# TODO: Write a function that returns the robustness index of the airport network for random attacks.\n",
    "def robustness_index_random(g, n_nodes_removed):\n",
    "    \"\"\"\n",
    "\n",
    "    The robustness index is defined as the normalized area under the curve of the size of the largest connected component\n",
    "    as a function of the fraction of nodes removed. A higher index indicates a more robust network.\n",
    "\n",
    "    Parameters\n",
    "    ----------\n",
    "    g : igraph.Graph\n",
    "        The graph representing the airport network\n",
    "    n_nodes_removed : int\n",
    "        The number of nodes to remove in each step\n",
    "\n",
    "    Returns\n",
    "    -------\n",
    "    frac_nodes_removed : np.array or list\n",
    "        The fraction of nodes removed\n",
    "    connectivity : np.array or list\n",
    "        The size of the largest connected component\n",
    "    \"\"\"\n",
    "    pass\n",
    "\n",
    "# TODO: Write a function that returns the robustness index of the airport network for targeted attacks based on degree centrality.\n",
    "def robustness_index_degree(g):\n",
    "    \"\"\"\n",
    "\n",
    "    Nodes should be removed in descending order of their degree centrality.\n",
    "\n",
    "    Parameters\n",
    "    ----------\n",
    "    g : igraph.Graph\n",
    "        The graph representing the airport network\n",
    "    n_nodes_removed : int\n",
    "        The number of nodes to remove in each step\n",
    "\n",
    "    Returns\n",
    "    -------\n",
    "    frac_nodes_removed : np.array or list\n",
    "        The fraction of nodes removed\n",
    "    connectivity : np.array or list\n",
    "        The size of the largest connected component\n",
    "    \"\"\"\n",
    "    pass\n",
    "\n",
    "# TODO: Write a function that returns the robustness index of the airport network for targeted attacks based on closeness centrality.\n",
    "def robustness_index_closeness(g):\n",
    "    \"\"\"\n",
    "\n",
    "    Nodes should be removed in descending order of their closeness centrality.\n",
    "\n",
    "    Parameters\n",
    "    ----------\n",
    "    g : igraph.Graph\n",
    "        The graph representing the airport network\n",
    "    n_nodes_removed : int\n",
    "        The number of nodes to remove in each step\n",
    "\n",
    "    Returns\n",
    "    -------\n",
    "    frac_nodes_removed : np.array or list\n",
    "        The fraction of nodes removed\n",
    "    connectivity : np.array or list\n",
    "        The size of the largest connected component\n",
    "    \"\"\"\n",
    "    pass\n",
    "\n",
    "# TODO: Write a function that returns the robustness index of the airport network for targeted attacks based on betweenness centrality.\n",
    "def robustness_index_betweenness(g):\n",
    "    \"\"\"\n",
    "    Nodes should be removed in descending order of their betweenness centrality.\n",
    "\n",
    "    Parameters\n",
    "    ----------\n",
    "    g : igraph.Graph\n",
    "        The graph representing the airport network\n",
    "    n_nodes_removed : int\n",
    "        The number of nodes to remove in each step\n",
    "\n",
    "    Returns\n",
    "    -------\n",
    "    frac_nodes_removed : np.array or list\n",
    "        The fraction of nodes removed\n",
    "    connectivity : np.array or list\n",
    "        The size of the largest connected component\n",
    "    \"\"\"\n",
    "    pass"
   ]
  },
  {
   "cell_type": "code",
   "execution_count": 17,
   "id": "e25101f2",
   "metadata": {},
   "outputs": [],
   "source": [
    "robustness_profile = []\n",
    "\n",
    "\n",
    "frac_nodes_removed, connectivity = robustness_index_random(g, n_nodes_removed = 10)\n",
    "robustness_profile.append(pd.DataFrame({\"frac_nodes_removed\": frac_nodes_removed, \"connectivity\": connectivity, \"method\": \"Random\"}))\n",
    "\n",
    "frac_nodes_removed, connectivity = robustness_index_degree(g, n_nodes_removed = 10)\n",
    "robustness_profile.append(pd.DataFrame({\"frac_nodes_removed\": frac_nodes_removed, \"connectivity\": connectivity, \"method\": \"Degree-based attacks\"}))\n",
    "\n",
    "frac_nodes_removed, connectivity = robustness_index_closeness(g, n_nodes_removed = 10)\n",
    "robustness_profile.append(pd.DataFrame({\"frac_nodes_removed\": frac_nodes_removed, \"connectivity\": connectivity, \"method\": \"Closeness-based attacks\"}))\n",
    "\n",
    "frac_nodes_removed, connectivity = robustness_index_betweenness(g, n_nodes_removed = 10)\n",
    "robustness_profile.append(pd.DataFrame({\"frac_nodes_removed\": frac_nodes_removed, \"connectivity\": connectivity, \"method\": \"Betweenness-based attacks\"}))\n",
    "\n",
    "robustness_profile = pd.concat(robustness_profile)"
   ]
  },
  {
   "cell_type": "code",
   "execution_count": 18,
   "id": "b0329e21",
   "metadata": {},
   "outputs": [
    {
     "data": {
      "text/html": [
       "<div>\n",
       "<style scoped>\n",
       "    .dataframe tbody tr th:only-of-type {\n",
       "        vertical-align: middle;\n",
       "    }\n",
       "\n",
       "    .dataframe tbody tr th {\n",
       "        vertical-align: top;\n",
       "    }\n",
       "\n",
       "    .dataframe thead th {\n",
       "        text-align: right;\n",
       "    }\n",
       "</style>\n",
       "<table border=\"1\" class=\"dataframe\">\n",
       "  <thead>\n",
       "    <tr style=\"text-align: right;\">\n",
       "      <th></th>\n",
       "      <th>frac_nodes_removed</th>\n",
       "      <th>connectivity</th>\n",
       "    </tr>\n",
       "    <tr>\n",
       "      <th>method</th>\n",
       "      <th></th>\n",
       "      <th></th>\n",
       "    </tr>\n",
       "  </thead>\n",
       "  <tbody>\n",
       "    <tr>\n",
       "      <th>Betweenness-based attacks</th>\n",
       "      <td>0.502068</td>\n",
       "      <td>0.046967</td>\n",
       "    </tr>\n",
       "    <tr>\n",
       "      <th>Closeness-based attacks</th>\n",
       "      <td>0.502068</td>\n",
       "      <td>0.378030</td>\n",
       "    </tr>\n",
       "    <tr>\n",
       "      <th>Degree-based attacks</th>\n",
       "      <td>0.502068</td>\n",
       "      <td>0.078950</td>\n",
       "    </tr>\n",
       "    <tr>\n",
       "      <th>Random</th>\n",
       "      <td>0.502068</td>\n",
       "      <td>0.391697</td>\n",
       "    </tr>\n",
       "  </tbody>\n",
       "</table>\n",
       "</div>"
      ],
      "text/plain": [
       "                           frac_nodes_removed  connectivity\n",
       "method                                                     \n",
       "Betweenness-based attacks            0.502068      0.046967\n",
       "Closeness-based attacks              0.502068      0.378030\n",
       "Degree-based attacks                 0.502068      0.078950\n",
       "Random                               0.502068      0.391697"
      ]
     },
     "execution_count": 18,
     "metadata": {},
     "output_type": "execute_result"
    }
   ],
   "source": [
    "robustness_profile.groupby(\"method\").mean()"
   ]
  },
  {
   "cell_type": "code",
   "execution_count": 11,
   "id": "1918bc3e",
   "metadata": {},
   "outputs": [
    {
     "data": {
      "image/png": "[encoded data removed]",
      "text/plain": [
       "<Figure size 500x500 with 1 Axes>"
      ]
     },
     "metadata": {},
     "output_type": "display_data"
    }
   ],
   "source": [
    "import matplotlib.pyplot as plt\n",
    "import seaborn as sns\n",
    "\n",
    "fig, ax = plt.subplots(figsize = (5, 5))\n",
    "\n",
    "sns.lineplot(x = \"frac_nodes_removed\", y = \"connectivity\", hue = \"method\", data = robustness_profile, style = \"method\", ax = ax)\n",
    "\n",
    "# Update the legend to include the new line\n",
    "ax.legend()\n",
    "\n",
    "# Adjust the plot limits to ensure the diagonal is fully visible\n",
    "ax.set_xlim(0, 1)\n",
    "ax.set_ylim(0, 1)\n",
    "ax.legend(loc = \"upper right\", frameon = False, bbox_to_anchor = (1, 1))\n",
    "\n",
    "# Add labels and title for clarity\n",
    "ax.set_xlabel('Fraction of Nodes Removed')\n",
    "ax.set_ylabel('Connectivity')\n",
    "ax.set_title('Network Robustness Profile')\n",
    "\n",
    "sns.despine()\n"
   ]
  },
  {
   "cell_type": "code",
   "execution_count": null,
   "id": "4e498b92",
   "metadata": {},
   "outputs": [],
   "source": []
  }
 ],
 "metadata": {
  "kernelspec": {
   "display_name": "Python 3",
   "language": "python",
   "name": "python3"
  },
  "language_info": {
   "codemirror_mode": {
    "name": "ipython",
    "version": 3
   },
   "file_extension": ".py",
   "mimetype": "text/x-python",
   "name": "python",
   "nbconvert_exporter": "python",
   "pygments_lexer": "ipython3",
   "version": "3.11.0"
  }
 },
 "nbformat": 4,
 "nbformat_minor": 5
}
